{
 "cells": [
  {
   "cell_type": "markdown",
   "id": "indian-antique",
   "metadata": {},
   "source": [
    "# 字符串缩写"
   ]
  },
  {
   "cell_type": "code",
   "execution_count": 1,
   "id": "positive-cross",
   "metadata": {},
   "outputs": [
    {
     "name": "stdout",
     "output_type": "stream",
     "text": [
      "'xxxxxxxxxxxx...xxxxxxxxxxxxx'\n"
     ]
    }
   ],
   "source": [
    "import reprlib\n",
    "print(reprlib.repr('x' * 999))"
   ]
  },
  {
   "cell_type": "markdown",
   "id": "entire-bunny",
   "metadata": {},
   "source": [
    "# 十六进制加法表"
   ]
  },
  {
   "cell_type": "code",
   "execution_count": 2,
   "id": "stretch-waste",
   "metadata": {},
   "outputs": [
    {
     "name": "stdout",
     "output_type": "stream",
     "text": [
      " 0 |  1 |  2 |  3 |  4 |  5 |  6 |  7 |  8 |  9 |  A |  B |  C |  D |  E |  F\n",
      " 1 |  2 |  3 |  4 |  5 |  6 |  7 |  8 |  9 |  A |  B |  C |  D |  E |  F | 10\n",
      " 2 |    |  4 |  5 |  6 |  7 |  8 |  9 |  A |  B |  C |  D |  E |  F | 10 | 11\n",
      " 3 |    |    |  6 |  7 |  8 |  9 |  A |  B |  C |  D |  E |  F | 10 | 11 | 12\n",
      " 4 |    |    |    |  8 |  9 |  A |  B |  C |  D |  E |  F | 10 | 11 | 12 | 13\n",
      " 5 |    |    |    |    |  A |  B |  C |  D |  E |  F | 10 | 11 | 12 | 13 | 14\n",
      " 6 |    |    |    |    |    |  C |  D |  E |  F | 10 | 11 | 12 | 13 | 14 | 15\n",
      " 7 |    |    |    |    |    |    |  E |  F | 10 | 11 | 12 | 13 | 14 | 15 | 16\n",
      " 8 |    |    |    |    |    |    |    | 10 | 11 | 12 | 13 | 14 | 15 | 16 | 17\n",
      " 9 |    |    |    |    |    |    |    |    | 12 | 13 | 14 | 15 | 16 | 17 | 18\n",
      " A |    |    |    |    |    |    |    |    |    | 14 | 15 | 16 | 17 | 18 | 19\n",
      " B |    |    |    |    |    |    |    |    |    |    | 16 | 17 | 18 | 19 | 1A\n",
      " C |    |    |    |    |    |    |    |    |    |    |    | 18 | 19 | 1A | 1B\n",
      " D |    |    |    |    |    |    |    |    |    |    |    |    | 1A | 1B | 1C\n",
      " E |    |    |    |    |    |    |    |    |    |    |    |    |    | 1C | 1D\n",
      " F |    |    |    |    |    |    |    |    |    |    |    |    |    |    | 1E\n"
     ]
    }
   ],
   "source": [
    "print('\\n'.join([\n",
    "    ' | '.join(x) for x in [\n",
    "        [f'{x: >2X}' for x in range(16)]\n",
    "    ] + [\n",
    "        [\n",
    "            (f'{x + y: >2X}' if x <= y else '  ')\n",
    "            if y else f'{x: >2X}'\n",
    "            for y in range(16)\n",
    "        ] for x in range(1, 16)\n",
    "    ]\n",
    "]))"
   ]
  },
  {
   "cell_type": "markdown",
   "id": "olive-palmer",
   "metadata": {},
   "source": [
    "# 十六进制乘法表"
   ]
  },
  {
   "cell_type": "code",
   "execution_count": 3,
   "id": "noble-august",
   "metadata": {},
   "outputs": [
    {
     "name": "stdout",
     "output_type": "stream",
     "text": [
      " 0 |  1 |  2 |  3 |  4 |  5 |  6 |  7 |  8 |  9 |  A |  B |  C |  D |  E |  F\n",
      " 1 |  1 |  2 |  3 |  4 |  5 |  6 |  7 |  8 |  9 |  A |  B |  C |  D |  E |  F\n",
      " 2 |    |  4 |  6 |  8 |  A |  C |  E | 10 | 12 | 14 | 16 | 18 | 1A | 1C | 1E\n",
      " 3 |    |    |  9 |  C |  F | 12 | 15 | 18 | 1B | 1E | 21 | 24 | 27 | 2A | 2D\n",
      " 4 |    |    |    | 10 | 14 | 18 | 1C | 20 | 24 | 28 | 2C | 30 | 34 | 38 | 3C\n",
      " 5 |    |    |    |    | 19 | 1E | 23 | 28 | 2D | 32 | 37 | 3C | 41 | 46 | 4B\n",
      " 6 |    |    |    |    |    | 24 | 2A | 30 | 36 | 3C | 42 | 48 | 4E | 54 | 5A\n",
      " 7 |    |    |    |    |    |    | 31 | 38 | 3F | 46 | 4D | 54 | 5B | 62 | 69\n",
      " 8 |    |    |    |    |    |    |    | 40 | 48 | 50 | 58 | 60 | 68 | 70 | 78\n",
      " 9 |    |    |    |    |    |    |    |    | 51 | 5A | 63 | 6C | 75 | 7E | 87\n",
      " A |    |    |    |    |    |    |    |    |    | 64 | 6E | 78 | 82 | 8C | 96\n",
      " B |    |    |    |    |    |    |    |    |    |    | 79 | 84 | 8F | 9A | A5\n",
      " C |    |    |    |    |    |    |    |    |    |    |    | 90 | 9C | A8 | B4\n",
      " D |    |    |    |    |    |    |    |    |    |    |    |    | A9 | B6 | C3\n",
      " E |    |    |    |    |    |    |    |    |    |    |    |    |    | C4 | D2\n",
      " F |    |    |    |    |    |    |    |    |    |    |    |    |    |    | E1\n"
     ]
    }
   ],
   "source": [
    "print('\\n'.join([\n",
    "    ' | '.join(x) for x in [\n",
    "        [f'{x: >2X}' for x in range(16)]\n",
    "    ] + [\n",
    "        [\n",
    "            (f'{x * y: >2X}' if x <= y else '  ')\n",
    "            if y else f'{x: >2X}'\n",
    "            for y in range(16)\n",
    "        ] for x in range(1, 16)\n",
    "    ]\n",
    "]))"
   ]
  },
  {
   "cell_type": "markdown",
   "id": "generic-organization",
   "metadata": {},
   "source": [
    "# 十六进制按位与"
   ]
  },
  {
   "cell_type": "code",
   "execution_count": 4,
   "id": "democratic-repository",
   "metadata": {},
   "outputs": [
    {
     "name": "stdout",
     "output_type": "stream",
     "text": [
      " 0 |  1 |  2 |  3 |  4 |  5 |  6 |  7 |  8 |  9 |  A |  B |  C |  D |  E |  F\n",
      " 1 |  1 |  0 |  1 |  0 |  1 |  0 |  1 |  0 |  1 |  0 |  1 |  0 |  1 |  0 |  1\n",
      " 2 |    |  2 |  2 |  0 |  0 |  2 |  2 |  0 |  0 |  2 |  2 |  0 |  0 |  2 |  2\n",
      " 3 |    |    |  3 |  0 |  1 |  2 |  3 |  0 |  1 |  2 |  3 |  0 |  1 |  2 |  3\n",
      " 4 |    |    |    |  4 |  4 |  4 |  4 |  0 |  0 |  0 |  0 |  4 |  4 |  4 |  4\n",
      " 5 |    |    |    |    |  5 |  4 |  5 |  0 |  1 |  0 |  1 |  4 |  5 |  4 |  5\n",
      " 6 |    |    |    |    |    |  6 |  6 |  0 |  0 |  2 |  2 |  4 |  4 |  6 |  6\n",
      " 7 |    |    |    |    |    |    |  7 |  0 |  1 |  2 |  3 |  4 |  5 |  6 |  7\n",
      " 8 |    |    |    |    |    |    |    |  8 |  8 |  8 |  8 |  8 |  8 |  8 |  8\n",
      " 9 |    |    |    |    |    |    |    |    |  9 |  8 |  9 |  8 |  9 |  8 |  9\n",
      " A |    |    |    |    |    |    |    |    |    |  A |  A |  8 |  8 |  A |  A\n",
      " B |    |    |    |    |    |    |    |    |    |    |  B |  8 |  9 |  A |  B\n",
      " C |    |    |    |    |    |    |    |    |    |    |    |  C |  C |  C |  C\n",
      " D |    |    |    |    |    |    |    |    |    |    |    |    |  D |  C |  D\n",
      " E |    |    |    |    |    |    |    |    |    |    |    |    |    |  E |  E\n",
      " F |    |    |    |    |    |    |    |    |    |    |    |    |    |    |  F\n"
     ]
    }
   ],
   "source": [
    "print('\\n'.join([\n",
    "    ' | '.join(x) for x in [\n",
    "        [f'{x: >2X}' for x in range(16)]\n",
    "    ] + [\n",
    "        [\n",
    "            (f'{x & y: >2X}' if x <= y else '  ')\n",
    "            if y else f'{x: >2X}'\n",
    "            for y in range(16)\n",
    "        ] for x in range(1, 16)\n",
    "    ]\n",
    "]))"
   ]
  }
 ],
 "metadata": {
  "kernelspec": {
   "display_name": "Python 3",
   "language": "python",
   "name": "python3"
  },
  "language_info": {
   "codemirror_mode": {
    "name": "ipython",
    "version": 3
   },
   "file_extension": ".py",
   "mimetype": "text/x-python",
   "name": "python",
   "nbconvert_exporter": "python",
   "pygments_lexer": "ipython3",
   "version": "3.7.9"
  },
  "widgets": {
   "application/vnd.jupyter.widget-state+json": {
    "state": {},
    "version_major": 2,
    "version_minor": 0
   }
  }
 },
 "nbformat": 4,
 "nbformat_minor": 5
}
